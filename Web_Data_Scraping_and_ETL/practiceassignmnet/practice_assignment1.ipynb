{
 "cells": [
  {
   "cell_type": "code",
   "execution_count": 1,
   "metadata": {},
   "outputs": [],
   "source": [
    "import requests\n",
    "from bs4 import BeautifulSoup\n",
    "import pandas as pd\n"
   ]
  },
  {
   "cell_type": "markdown",
   "metadata": {},
   "source": [
    "# WebScraping"
   ]
  },
  {
   "cell_type": "code",
   "execution_count": 5,
   "metadata": {},
   "outputs": [],
   "source": [
    "url = \"https://web.archive.org/web/20230902185326/https://en.wikipedia.org/wiki/List_of_countries_by_GDP_%28nominal%29\"\n",
    "\n",
    "response = requests.get(url)\n",
    "soup = BeautifulSoup(response.text, \"html.parser\")\n",
    "\n",
    "table = soup.find(\"table\", {\"class\": \"wikitable\"})"
   ]
  },
  {
   "cell_type": "code",
   "execution_count": 7,
   "metadata": {},
   "outputs": [],
   "source": [
    "table_head = [\"Country\", \"Region\", \"IMF Estimate\", \"Year\"]"
   ]
  },
  {
   "cell_type": "code",
   "execution_count": null,
   "metadata": {},
   "outputs": [],
   "source": [
    "table_rows = table.find(\"tbody\").find_all(\"tr\")[3:]\n",
    "df = {\n",
    "    \"Country\": [],\n",
    "    \"Region\": [],\n",
    "    \"IMF Estimate\": [],\n",
    "    \"Year\": []\n",
    "}\n",
    "\n",
    "for row in table_rows:\n",
    "    row_data = row.find_all(\"td\")\n",
    "    temp = []\n",
    "    # check if row value is empty\n",
    "    df[\"Country\"].append(row_data[0].text)\n",
    "    df[\"Region\"].append(row_data[1].text)\n",
    "\n",
    "    if row_data[2].text == \"—\":\n",
    "        print()\n",
    "        df[\"IMF Estimate\"].append(None)\n",
    "        df[\"Year\"].append(None)\n",
    "    else:\n",
    "        df[\"IMF Estimate\"].append(int(row_data[2].text.replace(\",\", \"\")))\n",
    "        df[\"Year\"].append(int(row_data[3].text[-4:]))\n",
    "\n",
    "\n",
    "\n"
   ]
  },
  {
   "cell_type": "code",
   "execution_count": 36,
   "metadata": {},
   "outputs": [
    {
     "name": "stdout",
     "output_type": "stream",
     "text": [
      "213\n",
      "213\n",
      "213\n",
      "213\n"
     ]
    }
   ],
   "source": [
    "for key in df:\n",
    "    print(len(df[key]))"
   ]
  },
  {
   "cell_type": "markdown",
   "metadata": {},
   "source": [
    "# Transformation"
   ]
  },
  {
   "cell_type": "code",
   "execution_count": 38,
   "metadata": {},
   "outputs": [],
   "source": [
    "df = pd.DataFrame(df)"
   ]
  },
  {
   "cell_type": "code",
   "execution_count": 40,
   "metadata": {},
   "outputs": [],
   "source": [
    "def millions_to_billions(value):\n",
    "    \"\"\"\n",
    "    Convert a value from millions to billions and round to two decimal places.\n",
    "    \"\"\"\n",
    "    return round(value / 1000, 2)"
   ]
  },
  {
   "cell_type": "code",
   "execution_count": 41,
   "metadata": {},
   "outputs": [],
   "source": [
    "df.rename(columns={\"IMF Estimate\": \"GDP (billion USDs)\"}, inplace=True)\n",
    "\n",
    "df[\"GDP (billion USDs)\"] = df[\"GDP (billion USDs)\"].apply(millions_to_billions)"
   ]
  },
  {
   "cell_type": "code",
   "execution_count": 49,
   "metadata": {},
   "outputs": [],
   "source": [
    "df[\"Year\"] = df[\"Year\"].astype(\"Int32\")"
   ]
  },
  {
   "cell_type": "code",
   "execution_count": 51,
   "metadata": {},
   "outputs": [
    {
     "data": {
      "text/plain": [
       "Country                0\n",
       "Region                 0\n",
       "GDP (billion USDs)    22\n",
       "Year                  22\n",
       "dtype: int64"
      ]
     },
     "execution_count": 51,
     "metadata": {},
     "output_type": "execute_result"
    }
   ],
   "source": []
  },
  {
   "cell_type": "code",
   "execution_count": null,
   "metadata": {},
   "outputs": [],
   "source": [
    "import requests\n",
    "from bs4 import BeautifulSoup\n",
    "import pandas as pd\n",
    "import json\n",
    "import sqlite3\n",
    "import logging\n",
    "\n",
    "# Setup logging\n",
    "logging.basicConfig(filename='etl_project_log.txt', level=logging.INFO, \n",
    "                    format='%(asctime)s - %(levelname)s - %(message)s')\n",
    "\n",
    "def scrape_gdp_data():\n",
    "    url = \"https://web.archive.org/web/20230902185326/https://en.wikipedia.org/wiki/List_of_countries_by_GDP_%28nominal%29\"\n",
    "    response = requests.get(url)\n",
    "    soup = BeautifulSoup(response.text, \"html.parser\")\n",
    "    table = soup.find(\"table\", {\"class\": \"wikitable\"})\n",
    "    table_rows = table.find(\"tbody\").find_all(\"tr\")[3:]\n",
    "    \n",
    "    df = {\n",
    "        \"Country\": [],\n",
    "        \"Region\": [],\n",
    "        \"IMF Estimate\": [],\n",
    "        \"Year\": []\n",
    "    }\n",
    "\n",
    "    for row in table_rows:\n",
    "        row_data = row.find_all(\"td\")\n",
    "        df[\"Country\"].append(row_data[0].text.strip())\n",
    "        df[\"Region\"].append(row_data[1].text.strip())\n",
    "        if row_data[2].text.strip() == \"—\":\n",
    "            df[\"IMF Estimate\"].append(None)\n",
    "            df[\"Year\"].append(None)\n",
    "        else:\n",
    "            df[\"IMF Estimate\"].append(int(row_data[2].text.strip().replace(\",\", \"\")))\n",
    "            df[\"Year\"].append(int(row_data[3].text.strip()[-4:]))\n",
    "\n",
    "    return df\n",
    "\n",
    "def transform_data(df):\n",
    "    df = pd.DataFrame(df)\n",
    "    df.rename(columns={\"IMF Estimate\": \"GDP (billion USDs)\"}, inplace=True)\n",
    "    \n",
    "    def millions_to_billions(value):\n",
    "        return round(value / 1000, 2) if value else None\n",
    "\n",
    "    df[\"GDP (billion USDs)\"] = df[\"GDP (billion USDs)\"].apply(millions_to_billions)\n",
    "    df[\"Year\"] = df[\"Year\"].astype(\"Int32\")\n",
    "    return df\n",
    "\n",
    "def save_to_csv(df, filename):\n",
    "    df.to_csv(filename, index=False)\n",
    "\n",
    "def save_to_db(df, db_name, table_name):\n",
    "    conn = sqlite3.connect(db_name)\n",
    "    df.to_sql(table_name, conn, if_exists='replace', index=False)\n",
    "    conn.close()\n",
    "\n",
    "def query_db(db_name, query):\n",
    "    conn = sqlite3.connect(db_name)\n",
    "    result = pd.read_sql_query(query, conn)\n",
    "    conn.close()\n",
    "    return result\n",
    "\n",
    "def main():\n",
    "    logging.info(\"Starting the ETL process\")\n",
    "\n",
    "    try:\n",
    "        logging.info(\"Scraping data\")\n",
    "        raw_data = scrape_gdp_data()\n",
    "        logging.info(\"Scraping data completed\")\n",
    "\n",
    "        logging.info(\"Transforming data\")\n",
    "        transformed_data = transform_data(raw_data)\n",
    "        logging.info(\"Data transformation completed\")\n",
    "\n",
    "        csv_filename = 'Countries_by_GDP.json'\n",
    "        logging.info(f\"Saving data to JSON file: {json_filename}\")\n",
    "        save_to_csv(transformed_data, csv_filename)\n",
    "        logging.info(f\"Data saved to JSON file: {json_filename}\")\n",
    "\n",
    "        db_name = 'World_Economies.db'\n",
    "        table_name = 'Countries_by_GDP'\n",
    "        logging.info(f\"Saving data to database: {db_name}, table: {table_name}\")\n",
    "        save_to_db(transformed_data, db_name, table_name)\n",
    "        logging.info(f\"Data saved to database: {db_name}, table: {table_name}\")\n",
    "\n",
    "        query = \"SELECT * FROM Countries_by_GDP WHERE `GDP (billion USDs)` > 100\"\n",
    "        logging.info(\"Querying database for economies with more than 100 billion USD GDP\")\n",
    "        result = query_db(db_name, query)\n",
    "        logging.info(\"Query executed successfully\")\n",
    "        logging.info(f\"Query result:\\n{result}\")\n",
    "\n",
    "    except Exception as e:\n",
    "        logging.error(f\"Error occurred: {e}\")\n",
    "        raise\n",
    "\n",
    "    logging.info(\"ETL process completed\")\n",
    "\n",
    "if __name__ == \"__main__\":\n",
    "    main()\n"
   ]
  },
  {
   "cell_type": "code",
   "execution_count": null,
   "metadata": {},
   "outputs": [],
   "source": []
  },
  {
   "cell_type": "code",
   "execution_count": null,
   "metadata": {},
   "outputs": [],
   "source": []
  },
  {
   "cell_type": "code",
   "execution_count": 3,
   "metadata": {},
   "outputs": [],
   "source": [
    "currency_exchange_rates = requests.get(\"https://open.er-api.com/v6/latest/USD\").json()[\"rates\"]\n"
   ]
  },
  {
   "cell_type": "code",
   "execution_count": 23,
   "metadata": {},
   "outputs": [],
   "source": [
    "# extract table\n",
    "\n",
    "data = requests.get(\"https://www.forbesindia.com/article/explainers/the-10-largest-banks-in-the-world/86967/1\").text\n",
    "soup = BeautifulSoup(data, \"html.parser\")\n",
    "\n",
    "table = soup.find(\"table\", {\"style\": \"border-collapse: collapse;\"})"
   ]
  },
  {
   "cell_type": "code",
   "execution_count": 24,
   "metadata": {},
   "outputs": [],
   "source": [
    "table_rows = table.find(\"tbody\").find_all(\"tr\")\n",
    "\n",
    "table_head = [i.text for i in table.find_all(\"th\")]"
   ]
  },
  {
   "cell_type": "code",
   "execution_count": 56,
   "metadata": {},
   "outputs": [
    {
     "name": "stdout",
     "output_type": "stream",
     "text": [
      "list index out of range\n"
     ]
    }
   ],
   "source": [
    "df = {key: [] for key in table_head}\n",
    "\n",
    "for row in table_rows[1:]:\n",
    "    row_data = row.find_all(\"td\")\n",
    "    try:\n",
    "        for i, key in enumerate(table_head, start=0):\n",
    "            df[key].append(row_data[i].text)\n",
    "    except Exception as e:\n",
    "        print(e)\n",
    "        continue"
   ]
  },
  {
   "cell_type": "code",
   "execution_count": 57,
   "metadata": {},
   "outputs": [
    {
     "name": "stdout",
     "output_type": "stream",
     "text": [
      "10\n",
      "10\n",
      "10\n"
     ]
    }
   ],
   "source": [
    "for key in df:\n",
    "    print(len(df[key]))"
   ]
  },
  {
   "cell_type": "code",
   "execution_count": 58,
   "metadata": {},
   "outputs": [],
   "source": [
    "df = pd.DataFrame(df)"
   ]
  },
  {
   "cell_type": "code",
   "execution_count": 59,
   "metadata": {},
   "outputs": [
    {
     "data": {
      "text/html": [
       "<div>\n",
       "<style scoped>\n",
       "    .dataframe tbody tr th:only-of-type {\n",
       "        vertical-align: middle;\n",
       "    }\n",
       "\n",
       "    .dataframe tbody tr th {\n",
       "        vertical-align: top;\n",
       "    }\n",
       "\n",
       "    .dataframe thead th {\n",
       "        text-align: right;\n",
       "    }\n",
       "</style>\n",
       "<table border=\"1\" class=\"dataframe\">\n",
       "  <thead>\n",
       "    <tr style=\"text-align: right;\">\n",
       "      <th></th>\n",
       "      <th>Rank &amp; Bank</th>\n",
       "      <th>Headquarters</th>\n",
       "      <th>Market Cap</th>\n",
       "    </tr>\n",
       "  </thead>\n",
       "  <tbody>\n",
       "    <tr>\n",
       "      <th>0</th>\n",
       "      <td>#1 JPMorgan Chase</td>\n",
       "      <td>New York, USA</td>\n",
       "      <td>$551.03 B</td>\n",
       "    </tr>\n",
       "    <tr>\n",
       "      <th>1</th>\n",
       "      <td>#2 Bank of America</td>\n",
       "      <td>North Carolina, USA</td>\n",
       "      <td>$288.96 B</td>\n",
       "    </tr>\n",
       "    <tr>\n",
       "      <th>2</th>\n",
       "      <td>#3 Industrial and Commercial Bank of China Lim...</td>\n",
       "      <td>Beijing, China</td>\n",
       "      <td>$249.28 B</td>\n",
       "    </tr>\n",
       "    <tr>\n",
       "      <th>3</th>\n",
       "      <td>#4 Wells Fargo</td>\n",
       "      <td>California, USA</td>\n",
       "      <td>$208.41 B</td>\n",
       "    </tr>\n",
       "    <tr>\n",
       "      <th>4</th>\n",
       "      <td>#5 Agricultural Bank of China</td>\n",
       "      <td>Beijing, China</td>\n",
       "      <td>$207.79 B</td>\n",
       "    </tr>\n",
       "    <tr>\n",
       "      <th>5</th>\n",
       "      <td>#6 Bank of China</td>\n",
       "      <td>Beijing, China</td>\n",
       "      <td>$171.35 B</td>\n",
       "    </tr>\n",
       "    <tr>\n",
       "      <th>6</th>\n",
       "      <td>#7 China Construction Bank</td>\n",
       "      <td>Beijing, China</td>\n",
       "      <td>$166.19 B</td>\n",
       "    </tr>\n",
       "    <tr>\n",
       "      <th>7</th>\n",
       "      <td>#8 HSBC</td>\n",
       "      <td>London, UK</td>\n",
       "      <td>$164.48 B</td>\n",
       "    </tr>\n",
       "    <tr>\n",
       "      <th>8</th>\n",
       "      <td>#9 Morgan Stanley</td>\n",
       "      <td>New York, USA</td>\n",
       "      <td>$148.90 B</td>\n",
       "    </tr>\n",
       "    <tr>\n",
       "      <th>9</th>\n",
       "      <td>#10 HDFC Bank</td>\n",
       "      <td>Mumbai, India</td>\n",
       "      <td>$147.31 B</td>\n",
       "    </tr>\n",
       "  </tbody>\n",
       "</table>\n",
       "</div>"
      ],
      "text/plain": [
       "                                         Rank & Bank         Headquarters  \\\n",
       "0                                  #1 JPMorgan Chase        New York, USA   \n",
       "1                                 #2 Bank of America  North Carolina, USA   \n",
       "2  #3 Industrial and Commercial Bank of China Lim...       Beijing, China   \n",
       "3                                     #4 Wells Fargo      California, USA   \n",
       "4                      #5 Agricultural Bank of China       Beijing, China   \n",
       "5                                   #6 Bank of China       Beijing, China   \n",
       "6                         #7 China Construction Bank       Beijing, China   \n",
       "7                                            #8 HSBC           London, UK   \n",
       "8                                  #9 Morgan Stanley        New York, USA   \n",
       "9                                      #10 HDFC Bank        Mumbai, India   \n",
       "\n",
       "      Market Cap  \n",
       "0  $551.03 B      \n",
       "1  $288.96 B      \n",
       "2  $249.28 B      \n",
       "3  $208.41 B      \n",
       "4  $207.79 B      \n",
       "5  $171.35 B      \n",
       "6  $166.19 B      \n",
       "7  $164.48 B      \n",
       "8  $148.90 B      \n",
       "9  $147.31 B      "
      ]
     },
     "execution_count": 59,
     "metadata": {},
     "output_type": "execute_result"
    }
   ],
   "source": [
    "df"
   ]
  },
  {
   "cell_type": "code",
   "execution_count": 60,
   "metadata": {},
   "outputs": [],
   "source": [
    "df.rename(columns={\"Market Cap\": \"Market Cap (billion USDs)\"}, inplace=True)"
   ]
  },
  {
   "cell_type": "code",
   "execution_count": 61,
   "metadata": {},
   "outputs": [],
   "source": [
    "df[\"Rank & Bank\"] = df[\"Rank & Bank\"].apply(lambda x: \" \".join(x.split(\" \")[1:]))"
   ]
  },
  {
   "cell_type": "code",
   "execution_count": 63,
   "metadata": {},
   "outputs": [],
   "source": [
    "df[\"Market Cap (billion USDs)\"] = df[\"Market Cap (billion USDs)\"].apply(lambda x: float(x.replace(\"B\", \"\").replace(\"$\", \"\")))\n",
    "df[\"Market Cap (billion USDs)\"] = df[\"Market Cap (billion USDs)\"].apply(lambda x: round(x, 2))"
   ]
  },
  {
   "cell_type": "code",
   "execution_count": 67,
   "metadata": {},
   "outputs": [],
   "source": [
    "# exchnage rates for GBP, EUR, and INR\n",
    "exchanges = [\"GBP\", \"EUR\", \"INR\"]\n",
    "\n",
    "for i in exchanges:\n",
    "    col_name = f\"Market Cap (billion {i}s)\"\n",
    "    df[col_name] = df[\"Market Cap (billion USDs)\"].apply(lambda x: round(x * currency_exchange_rates[i], 2))"
   ]
  },
  {
   "cell_type": "code",
   "execution_count": 68,
   "metadata": {},
   "outputs": [
    {
     "data": {
      "text/html": [
       "<div>\n",
       "<style scoped>\n",
       "    .dataframe tbody tr th:only-of-type {\n",
       "        vertical-align: middle;\n",
       "    }\n",
       "\n",
       "    .dataframe tbody tr th {\n",
       "        vertical-align: top;\n",
       "    }\n",
       "\n",
       "    .dataframe thead th {\n",
       "        text-align: right;\n",
       "    }\n",
       "</style>\n",
       "<table border=\"1\" class=\"dataframe\">\n",
       "  <thead>\n",
       "    <tr style=\"text-align: right;\">\n",
       "      <th></th>\n",
       "      <th>Rank &amp; Bank</th>\n",
       "      <th>Headquarters</th>\n",
       "      <th>Market Cap (billion USDs)</th>\n",
       "      <th>Market Cap (billion GBPs)</th>\n",
       "      <th>Market Cap (billion EURs)</th>\n",
       "      <th>Market Cap (billion INRs)</th>\n",
       "    </tr>\n",
       "  </thead>\n",
       "  <tbody>\n",
       "    <tr>\n",
       "      <th>0</th>\n",
       "      <td>JPMorgan Chase</td>\n",
       "      <td>New York, USA</td>\n",
       "      <td>551.03</td>\n",
       "      <td>432.71</td>\n",
       "      <td>508.04</td>\n",
       "      <td>45794.79</td>\n",
       "    </tr>\n",
       "    <tr>\n",
       "      <th>1</th>\n",
       "      <td>Bank of America</td>\n",
       "      <td>North Carolina, USA</td>\n",
       "      <td>288.96</td>\n",
       "      <td>226.91</td>\n",
       "      <td>266.42</td>\n",
       "      <td>24014.78</td>\n",
       "    </tr>\n",
       "    <tr>\n",
       "      <th>2</th>\n",
       "      <td>Industrial and Commercial Bank of China Limited</td>\n",
       "      <td>Beijing, China</td>\n",
       "      <td>249.28</td>\n",
       "      <td>195.75</td>\n",
       "      <td>229.83</td>\n",
       "      <td>20717.07</td>\n",
       "    </tr>\n",
       "    <tr>\n",
       "      <th>3</th>\n",
       "      <td>Wells Fargo</td>\n",
       "      <td>California, USA</td>\n",
       "      <td>208.41</td>\n",
       "      <td>163.66</td>\n",
       "      <td>192.15</td>\n",
       "      <td>17320.46</td>\n",
       "    </tr>\n",
       "    <tr>\n",
       "      <th>4</th>\n",
       "      <td>Agricultural Bank of China</td>\n",
       "      <td>Beijing, China</td>\n",
       "      <td>207.79</td>\n",
       "      <td>163.17</td>\n",
       "      <td>191.58</td>\n",
       "      <td>17268.93</td>\n",
       "    </tr>\n",
       "    <tr>\n",
       "      <th>5</th>\n",
       "      <td>Bank of China</td>\n",
       "      <td>Beijing, China</td>\n",
       "      <td>171.35</td>\n",
       "      <td>134.56</td>\n",
       "      <td>157.98</td>\n",
       "      <td>14240.49</td>\n",
       "    </tr>\n",
       "    <tr>\n",
       "      <th>6</th>\n",
       "      <td>China Construction Bank</td>\n",
       "      <td>Beijing, China</td>\n",
       "      <td>166.19</td>\n",
       "      <td>130.51</td>\n",
       "      <td>153.23</td>\n",
       "      <td>13811.66</td>\n",
       "    </tr>\n",
       "    <tr>\n",
       "      <th>7</th>\n",
       "      <td>HSBC</td>\n",
       "      <td>London, UK</td>\n",
       "      <td>164.48</td>\n",
       "      <td>129.16</td>\n",
       "      <td>151.65</td>\n",
       "      <td>13669.54</td>\n",
       "    </tr>\n",
       "    <tr>\n",
       "      <th>8</th>\n",
       "      <td>Morgan Stanley</td>\n",
       "      <td>New York, USA</td>\n",
       "      <td>148.90</td>\n",
       "      <td>116.93</td>\n",
       "      <td>137.28</td>\n",
       "      <td>12374.72</td>\n",
       "    </tr>\n",
       "    <tr>\n",
       "      <th>9</th>\n",
       "      <td>HDFC Bank</td>\n",
       "      <td>Mumbai, India</td>\n",
       "      <td>147.31</td>\n",
       "      <td>115.68</td>\n",
       "      <td>135.82</td>\n",
       "      <td>12242.58</td>\n",
       "    </tr>\n",
       "  </tbody>\n",
       "</table>\n",
       "</div>"
      ],
      "text/plain": [
       "                                       Rank & Bank         Headquarters  \\\n",
       "0                                   JPMorgan Chase        New York, USA   \n",
       "1                                  Bank of America  North Carolina, USA   \n",
       "2  Industrial and Commercial Bank of China Limited       Beijing, China   \n",
       "3                                      Wells Fargo      California, USA   \n",
       "4                       Agricultural Bank of China       Beijing, China   \n",
       "5                                    Bank of China       Beijing, China   \n",
       "6                          China Construction Bank       Beijing, China   \n",
       "7                                             HSBC           London, UK   \n",
       "8                                   Morgan Stanley        New York, USA   \n",
       "9                                        HDFC Bank        Mumbai, India   \n",
       "\n",
       "   Market Cap (billion USDs)  Market Cap (billion GBPs)  \\\n",
       "0                     551.03                     432.71   \n",
       "1                     288.96                     226.91   \n",
       "2                     249.28                     195.75   \n",
       "3                     208.41                     163.66   \n",
       "4                     207.79                     163.17   \n",
       "5                     171.35                     134.56   \n",
       "6                     166.19                     130.51   \n",
       "7                     164.48                     129.16   \n",
       "8                     148.90                     116.93   \n",
       "9                     147.31                     115.68   \n",
       "\n",
       "   Market Cap (billion EURs)  Market Cap (billion INRs)  \n",
       "0                     508.04                   45794.79  \n",
       "1                     266.42                   24014.78  \n",
       "2                     229.83                   20717.07  \n",
       "3                     192.15                   17320.46  \n",
       "4                     191.58                   17268.93  \n",
       "5                     157.98                   14240.49  \n",
       "6                     153.23                   13811.66  \n",
       "7                     151.65                   13669.54  \n",
       "8                     137.28                   12374.72  \n",
       "9                     135.82                   12242.58  "
      ]
     },
     "execution_count": 68,
     "metadata": {},
     "output_type": "execute_result"
    }
   ],
   "source": [
    "df"
   ]
  },
  {
   "cell_type": "code",
   "execution_count": null,
   "metadata": {},
   "outputs": [],
   "source": []
  }
 ],
 "metadata": {
  "kernelspec": {
   "display_name": "ML_projects",
   "language": "python",
   "name": "python3"
  },
  "language_info": {
   "codemirror_mode": {
    "name": "ipython",
    "version": 3
   },
   "file_extension": ".py",
   "mimetype": "text/x-python",
   "name": "python",
   "nbconvert_exporter": "python",
   "pygments_lexer": "ipython3",
   "version": "3.11.5"
  }
 },
 "nbformat": 4,
 "nbformat_minor": 2
}
